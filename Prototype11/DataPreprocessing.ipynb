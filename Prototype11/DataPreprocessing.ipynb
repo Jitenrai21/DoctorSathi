{
 "cells": [
  {
   "cell_type": "code",
   "execution_count": 1,
   "id": "a476ec21",
   "metadata": {},
   "outputs": [
    {
     "name": "stdout",
     "output_type": "stream",
     "text": [
      "Dataset shape: (4920, 18)\n",
      "Unique diseases: 41\n",
      "Disease distribution:\n",
      " Disease\n",
      "Fungal infection                           120\n",
      "Hepatitis C                                120\n",
      "Hepatitis E                                120\n",
      "Alcoholic hepatitis                        120\n",
      "Tuberculosis                               120\n",
      "Common Cold                                120\n",
      "Pneumonia                                  120\n",
      "Dimorphic hemmorhoids(piles)               120\n",
      "Heart attack                               120\n",
      "Varicose veins                             120\n",
      "Hypothyroidism                             120\n",
      "Hyperthyroidism                            120\n",
      "Hypoglycemia                               120\n",
      "Osteoarthristis                            120\n",
      "Arthritis                                  120\n",
      "(vertigo) Paroymsal  Positional Vertigo    120\n",
      "Acne                                       120\n",
      "Urinary tract infection                    120\n",
      "Psoriasis                                  120\n",
      "Hepatitis D                                120\n",
      "Hepatitis B                                120\n",
      "Allergy                                    120\n",
      "hepatitis A                                120\n",
      "GERD                                       120\n",
      "Chronic cholestasis                        120\n",
      "Drug Reaction                              120\n",
      "Peptic ulcer diseae                        120\n",
      "AIDS                                       120\n",
      "Diabetes                                   120\n",
      "Gastroenteritis                            120\n",
      "Bronchial Asthma                           120\n",
      "Hypertension                               120\n",
      "Migraine                                   120\n",
      "Cervical spondylosis                       120\n",
      "Paralysis (brain hemorrhage)               120\n",
      "Jaundice                                   120\n",
      "Malaria                                    120\n",
      "Chicken pox                                120\n",
      "Dengue                                     120\n",
      "Typhoid                                    120\n",
      "Impetigo                                   120\n",
      "Name: count, dtype: int64\n"
     ]
    }
   ],
   "source": [
    "import pandas as pd\n",
    "import numpy as np\n",
    "\n",
    "# Load the dataset\n",
    "data = pd.read_csv(\"DiseaseAndSymptoms.csv\")  # Assuming the dataset is saved as a CSV file\n",
    "\n",
    "# Check the dataset size\n",
    "print(\"Dataset shape:\", data.shape)\n",
    "print(\"Unique diseases:\", data[\"Disease\"].nunique())\n",
    "print(\"Disease distribution:\\n\", data[\"Disease\"].value_counts())"
   ]
  },
  {
   "cell_type": "code",
   "execution_count": 2,
   "id": "632c75e7",
   "metadata": {},
   "outputs": [
    {
     "name": "stdout",
     "output_type": "stream",
     "text": [
      "Updated unique diseases: 41\n"
     ]
    }
   ],
   "source": [
    "# Clean disease names\n",
    "data[\"Disease\"] = data[\"Disease\"].str.strip()  # Remove leading/trailing spaces\n",
    "data[\"Disease\"] = data[\"Disease\"].replace({\n",
    "    \"Peptic ulcer diseae\": \"Peptic ulcer disease\",\n",
    "    \"Dimorphic hemmorhoids(piles)\": \"Dimorphic hemorrhoids (piles)\",\n",
    "    \"(vertigo) Paroymsal  Positional Vertigo\": \"Vertigo (Paroxysmal Positional Vertigo)\"\n",
    "})\n",
    "\n",
    "# Verify the updated disease names\n",
    "print(\"Updated unique diseases:\", data[\"Disease\"].nunique())"
   ]
  },
  {
   "cell_type": "code",
   "execution_count": 3,
   "id": "37aa0993",
   "metadata": {},
   "outputs": [
    {
     "name": "stdout",
     "output_type": "stream",
     "text": [
      "Column names in the dataset: ['Disease', 'Symptom_1', 'Symptom_2', 'Symptom_3', 'Symptom_4', 'Symptom_5', 'Symptom_6', 'Symptom_7', 'Symptom_8', 'Symptom_9', 'Symptom_10', 'Symptom_11', 'Symptom_12', 'Symptom_13', 'Symptom_14', 'Symptom_15', 'Symptom_16', 'Symptom_17']\n"
     ]
    }
   ],
   "source": [
    "print(\"Column names in the dataset:\", data.columns.tolist())"
   ]
  },
  {
   "cell_type": "code",
   "execution_count": 4,
   "id": "5677ddd7",
   "metadata": {},
   "outputs": [
    {
     "name": "stdout",
     "output_type": "stream",
     "text": [
      "Updated dataset shape: (4920, 2)\n",
      "Sample rows:\n",
      "             Disease                                 extracted_symptoms\n",
      "0  Fungal infection  dischromic patches itching nodal skin eruption...\n",
      "1  Fungal infection  dischromic patches nodal skin eruptions skin rash\n",
      "2  Fungal infection    dischromic patches itching nodal skin eruptions\n",
      "3  Fungal infection               dischromic patches itching skin rash\n",
      "4  Fungal infection             itching nodal skin eruptions skin rash\n"
     ]
    }
   ],
   "source": [
    "# Function to clean symptom names\n",
    "def clean_symptom(symptom):\n",
    "    if pd.isna(symptom):\n",
    "        return None\n",
    "    symptom = str(symptom).strip()  # Remove leading/trailing spaces\n",
    "    symptom = symptom.replace(\"_\", \" \")  # Replace underscores with spaces\n",
    "    symptom = symptom.replace(\"  \", \" \")  # Replace double spaces with single spaces\n",
    "    return symptom.lower()\n",
    "\n",
    "# Combine symptoms into a single column\n",
    "symptom_columns = [f\"Symptom_{i}\" for i in range(1, 18)]\n",
    "data[\"extracted_symptoms\"] = data[symptom_columns].apply(\n",
    "    lambda row: \" \".join(sorted(set(filter(None, [clean_symptom(symptom) for symptom in row])))),\n",
    "    axis=1\n",
    ")\n",
    "\n",
    "# Drop the original symptom columns\n",
    "data = data[[\"Disease\", \"extracted_symptoms\"]]\n",
    "\n",
    "# Check the updated dataset\n",
    "print(\"Updated dataset shape:\", data.shape)\n",
    "print(\"Sample rows:\\n\", data.head())"
   ]
  },
  {
   "cell_type": "code",
   "execution_count": 5,
   "id": "9ba5b0f7",
   "metadata": {},
   "outputs": [
    {
     "name": "stdout",
     "output_type": "stream",
     "text": [
      "Rows with empty symptoms: 0\n",
      "Dataset shape after removing empty symptoms: (4920, 2)\n"
     ]
    }
   ],
   "source": [
    "# Check for empty symptom rows\n",
    "empty_symptom_rows = data[data[\"extracted_symptoms\"] == \"\"]\n",
    "print(\"Rows with empty symptoms:\", len(empty_symptom_rows))\n",
    "\n",
    "# Drop rows with empty symptoms (if any)\n",
    "data = data[data[\"extracted_symptoms\"] != \"\"]\n",
    "print(\"Dataset shape after removing empty symptoms:\", data.shape)"
   ]
  },
  {
   "cell_type": "code",
   "execution_count": 6,
   "id": "62b70bda",
   "metadata": {},
   "outputs": [
    {
     "name": "stdout",
     "output_type": "stream",
     "text": [
      "Dataset shape after deduplication: (304, 2)\n",
      "Disease distribution after deduplication:\n",
      " Disease\n",
      "Hepatitis D                                10\n",
      "Dengue                                     10\n",
      "Chicken pox                                10\n",
      "Migraine                                   10\n",
      "Hepatitis B                                 9\n",
      "Hypoglycemia                                9\n",
      "Common Cold                                 9\n",
      "Tuberculosis                                9\n",
      "Hepatitis E                                 9\n",
      "hepatitis A                                 9\n",
      "Typhoid                                     9\n",
      "Hyperthyroidism                             9\n",
      "Jaundice                                    9\n",
      "Diabetes                                    9\n",
      "Pneumonia                                   9\n",
      "Varicose veins                              8\n",
      "Malaria                                     8\n",
      "Hypothyroidism                              8\n",
      "Alcoholic hepatitis                         8\n",
      "Chronic cholestasis                         8\n",
      "Osteoarthristis                             7\n",
      "Bronchial Asthma                            7\n",
      "Vertigo (Paroxysmal Positional Vertigo)     7\n",
      "Hepatitis C                                 7\n",
      "Peptic ulcer disease                        7\n",
      "Psoriasis                                   7\n",
      "GERD                                        7\n",
      "Arthritis                                   6\n",
      "Impetigo                                    6\n",
      "Dimorphic hemorrhoids (piles)               6\n",
      "Cervical spondylosis                        6\n",
      "Hypertension                                6\n",
      "Drug Reaction                               6\n",
      "Heart attack                                5\n",
      "Allergy                                     5\n",
      "Paralysis (brain hemorrhage)                5\n",
      "Gastroenteritis                             5\n",
      "AIDS                                        5\n",
      "Acne                                        5\n",
      "Urinary tract infection                     5\n",
      "Fungal infection                            5\n",
      "Name: count, dtype: int64\n"
     ]
    }
   ],
   "source": [
    "# Deduplicate rows\n",
    "data_dedup = data.drop_duplicates(subset=[\"Disease\", \"extracted_symptoms\"])\n",
    "print(\"Dataset shape after deduplication:\", data_dedup.shape)\n",
    "print(\"Disease distribution after deduplication:\\n\", data_dedup[\"Disease\"].value_counts())"
   ]
  },
  {
   "cell_type": "code",
   "execution_count": null,
   "id": "fff4edb9",
   "metadata": {},
   "outputs": [],
   "source": []
  }
 ],
 "metadata": {
  "kernelspec": {
   "display_name": "env",
   "language": "python",
   "name": "python3"
  },
  "language_info": {
   "codemirror_mode": {
    "name": "ipython",
    "version": 3
   },
   "file_extension": ".py",
   "mimetype": "text/x-python",
   "name": "python",
   "nbconvert_exporter": "python",
   "pygments_lexer": "ipython3",
   "version": "3.12.4"
  }
 },
 "nbformat": 4,
 "nbformat_minor": 5
}
