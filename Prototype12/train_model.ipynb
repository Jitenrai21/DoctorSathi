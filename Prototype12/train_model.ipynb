{
 "cells": [
  {
   "cell_type": "code",
   "execution_count": 23,
   "id": "72aeb749",
   "metadata": {},
   "outputs": [
    {
     "name": "stdout",
     "output_type": "stream",
     "text": [
      "Libraries imported successfully\n"
     ]
    }
   ],
   "source": [
    "import pandas as pd\n",
    "import numpy as np\n",
    "from gensim.models import KeyedVectors\n",
    "from imblearn.over_sampling import SMOTE\n",
    "from sklearn.ensemble import RandomForestClassifier\n",
    "from sklearn.model_selection import train_test_split\n",
    "from sklearn.metrics import f1_score\n",
    "from sklearn.feature_extraction.text import TfidfVectorizer\n",
    "\n",
    "# Verification: Check if imports succeeded (no output expected if successful)\n",
    "print(\"Libraries imported successfully\")"
   ]
  },
  {
   "cell_type": "code",
   "execution_count": 24,
   "id": "47e3cefa",
   "metadata": {},
   "outputs": [
    {
     "name": "stdout",
     "output_type": "stream",
     "text": [
      "Dataset shape: (1200, 2)\n",
      "Sample rows:\n",
      "        label                extracted_symptoms\n",
      "0  Psoriasis  dry scaly patches rash skin rash\n",
      "1  Psoriasis                                  \n",
      "2  Psoriasis                   joint pain pain\n",
      "3  Psoriasis                                  \n",
      "4  Psoriasis                                  \n"
     ]
    }
   ],
   "source": [
    "import re\n",
    "# Load dataset\n",
    "data = pd.read_csv(\"Symptom2Disease.csv\")\n",
    "\n",
    "# Reuse your cleaning and symptom extraction functions (assumed defined earlier)\n",
    "def clean_text(text):\n",
    "    text = text.lower()\n",
    "    text = re.sub(r'[^\\w\\s]', ' ', text)\n",
    "    text = text.replace(\"vomitting\", \"vomiting\").replace(\"apetite\", \"appetite\").replace(\"experince\", \"experience\")\n",
    "    text = text.replace(\"dischromic\", \"discolored\").replace(\"accompained\", \"accompanied\")\n",
    "    text = re.sub(r'\\s+', ' ', text).strip()\n",
    "    return text\n",
    "\n",
    "# Define symptom lists (shortened for brevity; use your full lists)\n",
    "known_symptoms = [\"skin rash\", \"joint pain\", \"fever\", \"dry scaly patches\"]\n",
    "single_word_symptoms = [\"fever\", \"nausea\", \"pain\", \"rash\"]\n",
    "\n",
    "def extract_symptoms_from_text(text, known_symptoms, single_word_symptoms):\n",
    "    symptoms_found = set()\n",
    "    words = text.split()\n",
    "    for symptom in known_symptoms:\n",
    "        if symptom in text:\n",
    "            symptoms_found.add(symptom)\n",
    "    for word in words:\n",
    "        if word in single_word_symptoms:\n",
    "            symptoms_found.add(word)\n",
    "    return \" \".join(sorted(symptoms_found)) if symptoms_found else \"\"\n",
    "\n",
    "# Apply preprocessing\n",
    "data[\"cleaned_text\"] = data[\"text\"].apply(clean_text)\n",
    "data[\"extracted_symptoms\"] = data[\"cleaned_text\"].apply(\n",
    "    lambda x: extract_symptoms_from_text(x, known_symptoms, single_word_symptoms)\n",
    ")\n",
    "data = data[[\"label\", \"extracted_symptoms\"]]\n",
    "\n",
    "# Verification: Check dataset shape and sample\n",
    "print(f\"Dataset shape: {data.shape}\")\n",
    "print(\"Sample rows:\\n\", data.head())"
   ]
  },
  {
   "cell_type": "code",
   "execution_count": 26,
   "id": "fdadc86d",
   "metadata": {},
   "outputs": [
    {
     "name": "stdout",
     "output_type": "stream",
     "text": [
      "Loaded embeddings with 16545452 terms\n",
      "Is 'fever' in vocabulary? True\n",
      "Similar to 'fever': [('fevery', 0.8861067891120911), ('feverr', 0.8792648315429688), (\"fever'\", 0.8753470182418823)]\n"
     ]
    }
   ],
   "source": [
    "# Load BioWordVec embeddings\n",
    "bio_word_vec = KeyedVectors.load_word2vec_format(r\"C:\\Users\\ACER\\Downloads\\BioWordVec_PubMed_MIMICIII_d200.vec.bin\", binary=True)\n",
    "\n",
    "# Verification: Check vocabulary size and sample terms\n",
    "print(f\"Loaded embeddings with {len(bio_word_vec)} terms\")\n",
    "print(\"Is 'fever' in vocabulary?\", \"fever\" in bio_word_vec)\n",
    "print(\"Similar to 'fever':\", bio_word_vec.most_similar(\"fever\", topn=3))"
   ]
  },
  {
   "cell_type": "code",
   "execution_count": 27,
   "id": "3ce2a93b",
   "metadata": {},
   "outputs": [
    {
     "name": "stdout",
     "output_type": "stream",
     "text": [
      "X shape: (1200, 200)\n",
      "Sample embedding (first 5 dimensions): [ 0.0637474  -0.00534367 -0.19498634  0.57476169 -0.39963672]\n",
      "Sample label: Psoriasis\n"
     ]
    }
   ],
   "source": [
    "# Function to convert symptoms to embeddings\n",
    "def symptoms_to_embedding(symptoms, model):\n",
    "    symptom_list = symptoms.split()\n",
    "    vectors = []\n",
    "    for symptom in symptom_list:\n",
    "        words = symptom.split()\n",
    "        word_vecs = [model[word] for word in words if word in model]\n",
    "        if word_vecs:\n",
    "            vectors.append(np.mean(word_vecs, axis=0))\n",
    "    return np.mean(vectors, axis=0) if vectors else np.zeros(200)\n",
    "\n",
    "# Apply to dataset\n",
    "data[\"symptom_embedding\"] = data[\"extracted_symptoms\"].apply(lambda x: symptoms_to_embedding(x, bio_word_vec))\n",
    "X = np.vstack(data[\"symptom_embedding\"].values)\n",
    "y = data[\"label\"].values\n",
    "\n",
    "# Verification: Check embedding shape and sample\n",
    "print(f\"X shape: {X.shape}\")\n",
    "print(\"Sample embedding (first 5 dimensions):\", X[0][:5])\n",
    "print(\"Sample label:\", y[0])"
   ]
  },
  {
   "cell_type": "code",
   "execution_count": 28,
   "id": "66a70436",
   "metadata": {},
   "outputs": [
    {
     "name": "stdout",
     "output_type": "stream",
     "text": [
      "Augmented X shape: (1200, 200)\n",
      "Augmented class distribution:\n",
      " Psoriasis                          50\n",
      "Varicose Veins                     50\n",
      "peptic ulcer disease               50\n",
      "drug reaction                      50\n",
      "gastroesophageal reflux disease    50\n",
      "allergy                            50\n",
      "urinary tract infection            50\n",
      "Malaria                            50\n",
      "Jaundice                           50\n",
      "Cervical spondylosis               50\n",
      "Migraine                           50\n",
      "Hypertension                       50\n",
      "Bronchial Asthma                   50\n",
      "Acne                               50\n",
      "Arthritis                          50\n",
      "Dimorphic Hemorrhoids              50\n",
      "Pneumonia                          50\n",
      "Common Cold                        50\n",
      "Fungal infection                   50\n",
      "Dengue                             50\n",
      "Impetigo                           50\n",
      "Chicken pox                        50\n",
      "Typhoid                            50\n",
      "diabetes                           50\n",
      "Name: count, dtype: int64\n"
     ]
    }
   ],
   "source": [
    "# Apply SMOTE\n",
    "smote = SMOTE(random_state=42)\n",
    "X_resampled, y_resampled = smote.fit_resample(X, y)\n",
    "\n",
    "# Verification: Check new shape and class distribution\n",
    "print(f\"Augmented X shape: {X_resampled.shape}\")\n",
    "print(\"Augmented class distribution:\\n\", pd.Series(y_resampled).value_counts())"
   ]
  },
  {
   "cell_type": "code",
   "execution_count": 29,
   "id": "a46bb894",
   "metadata": {},
   "outputs": [
    {
     "name": "stderr",
     "output_type": "stream",
     "text": [
      "c:\\Users\\ACER\\gitClones\\DoctorSathi\\env\\Lib\\site-packages\\gensim\\models\\keyedvectors.py:1162: RuntimeWarning: invalid value encountered in divide\n",
      "  similarities = dot_products / (norm * all_norms)\n"
     ]
    },
    {
     "name": "stdout",
     "output_type": "stream",
     "text": [
      "Augmented dataset shape: (1200, 3)\n",
      "Sample augmented rows:\n",
      "        label                                  symptom_embedding  \\\n",
      "0  Psoriasis  [0.06374739855527878, -0.0053436667658388615, ...   \n",
      "1  Psoriasis  [0.0, 0.0, 0.0, 0.0, 0.0, 0.0, 0.0, 0.0, 0.0, ...   \n",
      "2  Psoriasis  [-0.10813000053167343, 0.4614596366882324, -0....   \n",
      "3  Psoriasis  [0.0, 0.0, 0.0, 0.0, 0.0, 0.0, 0.0, 0.0, 0.0, ...   \n",
      "4  Psoriasis  [0.0, 0.0, 0.0, 0.0, 0.0, 0.0, 0.0, 0.0, 0.0, ...   \n",
      "\n",
      "                 extracted_symptoms  \n",
      "0  skin rash dry scaly patches rash  \n",
      "1                                    \n",
      "2            joint pain pain nausea  \n",
      "3                                    \n",
      "4                                    \n"
     ]
    }
   ],
   "source": [
    "# Function to map embeddings back to symptoms\n",
    "def embedding_to_symptoms(embedding, model, known_symptoms, top_n=3):\n",
    "    all_symptoms = known_symptoms + single_word_symptoms\n",
    "    symptom_vectors = {s: symptoms_to_embedding(s, model) for s in all_symptoms if symptoms_to_embedding(s, model).any()}\n",
    "    similarities = {s: model.cosine_similarities(embedding, [v])[0] for s, v in symptom_vectors.items()}\n",
    "    selected = sorted(similarities.items(), key=lambda x: x[1], reverse=True)[:top_n]\n",
    "    return \" \".join([s[0] for s in selected if s[1] > 0.5])\n",
    "\n",
    "# Create augmented DataFrame\n",
    "augmented_data = pd.DataFrame({\"label\": y_resampled})\n",
    "augmented_data[\"symptom_embedding\"] = list(X_resampled)\n",
    "augmented_data[\"extracted_symptoms\"] = augmented_data[\"symptom_embedding\"].apply(\n",
    "    lambda x: embedding_to_symptoms(x, bio_word_vec, known_symptoms)\n",
    ")\n",
    "\n",
    "# Verification: Check shape and sample augmented data\n",
    "print(f\"Augmented dataset shape: {augmented_data.shape}\")\n",
    "print(\"Sample augmented rows:\\n\", augmented_data.head())"
   ]
  },
  {
   "cell_type": "code",
   "execution_count": 30,
   "id": "4c952b7e",
   "metadata": {},
   "outputs": [
    {
     "name": "stdout",
     "output_type": "stream",
     "text": [
      "X_train shape: (960, 31), X_test shape: (240, 31)\n",
      "Weighted F1-Score: 0.10515435983332848\n"
     ]
    }
   ],
   "source": [
    "# Vectorize augmented symptoms\n",
    "tfidf = TfidfVectorizer(ngram_range=(1, 2))\n",
    "X = tfidf.fit_transform(augmented_data[\"extracted_symptoms\"])\n",
    "y = augmented_data[\"label\"]\n",
    "\n",
    "# Split and train\n",
    "X_train, X_test, y_train, y_test = train_test_split(X, y, test_size=0.2, random_state=42)\n",
    "model = RandomForestClassifier(random_state=42, n_estimators=200)\n",
    "model.fit(X_train, y_train)\n",
    "\n",
    "# Evaluate\n",
    "y_pred = model.predict(X_test)\n",
    "f1 = f1_score(y_test, y_pred, average=\"weighted\")\n",
    "\n",
    "# Verification: Check shapes and performance\n",
    "print(f\"X_train shape: {X_train.shape}, X_test shape: {X_test.shape}\")\n",
    "print(f\"Weighted F1-Score: {f1}\")"
   ]
  },
  {
   "cell_type": "code",
   "execution_count": 31,
   "id": "8e52ab1b",
   "metadata": {},
   "outputs": [
    {
     "name": "stdout",
     "output_type": "stream",
     "text": [
      "X_train shape: (960, 200), X_test shape: (240, 200)\n",
      "Weighted F1-Score (embeddings): 0.09848769316666181\n"
     ]
    }
   ],
   "source": [
    "# Train directly on embeddings\n",
    "X = np.vstack(augmented_data[\"symptom_embedding\"].values)\n",
    "y = augmented_data[\"label\"]\n",
    "X_train, X_test, y_train, y_test = train_test_split(X, y, test_size=0.2, random_state=42)\n",
    "model = RandomForestClassifier(random_state=42, n_estimators=200)\n",
    "model.fit(X_train, y_train)\n",
    "y_pred = model.predict(X_test)\n",
    "f1 = f1_score(y_test, y_pred, average=\"weighted\")\n",
    "\n",
    "# Verification: Check shapes and performance\n",
    "print(f\"X_train shape: {X_train.shape}, X_test shape: {X_test.shape}\")\n",
    "print(f\"Weighted F1-Score (embeddings): {f1}\")"
   ]
  },
  {
   "cell_type": "code",
   "execution_count": null,
   "id": "48bb0cda",
   "metadata": {},
   "outputs": [],
   "source": []
  }
 ],
 "metadata": {
  "kernelspec": {
   "display_name": "env",
   "language": "python",
   "name": "python3"
  },
  "language_info": {
   "codemirror_mode": {
    "name": "ipython",
    "version": 3
   },
   "file_extension": ".py",
   "mimetype": "text/x-python",
   "name": "python",
   "nbconvert_exporter": "python",
   "pygments_lexer": "ipython3",
   "version": "3.12.4"
  }
 },
 "nbformat": 4,
 "nbformat_minor": 5
}
