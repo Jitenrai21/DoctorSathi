{
 "cells": [
  {
   "cell_type": "code",
   "execution_count": 1,
   "id": "00aa2719",
   "metadata": {},
   "outputs": [
    {
     "name": "stdout",
     "output_type": "stream",
     "text": [
      "Number of unique symptoms: 141\n",
      "Sample known_symptoms: ['abdominal', 'aches', 'anemia', 'appetite', 'back', 'bad', 'belching', 'belly', 'blistering', 'bloating']\n",
      "Number of diseases with priors: 24\n",
      "Psoriasis: ['rash', 'pain', 'peeling', 'skin', 'joint']\n",
      "Varicose Veins: ['cramps', 'rash', 'fatigue', 'pain', 'itchy']\n",
      "Typhoid: ['pain', 'fever', 'constipation', 'headache', 'vomiting']\n"
     ]
    }
   ],
   "source": [
    "import pandas as pd\n",
    "import numpy as np\n",
    "from collections import Counter\n",
    "\n",
    "# Load dataset\n",
    "data = pd.read_csv(\"preprocessed_dataset.csv\")\n",
    "data[\"extracted_symptoms\"] = data[\"extracted_symptoms\"].fillna(\"\")  # Handle NaN\n",
    "\n",
    "# Step 1: Extract known_symptoms\n",
    "all_symptoms = \" \".join(data[\"extracted_symptoms\"]).split()\n",
    "known_symptoms = sorted(set(all_symptoms) - {\"\"})  # Remove empty strings and deduplicate\n",
    "print(f\"Number of unique symptoms: {len(known_symptoms)}\")\n",
    "print(\"Sample known_symptoms:\", known_symptoms[:10])\n",
    "\n",
    "# Step 2: Extract disease_symptom_priors\n",
    "disease_symptom_priors = {}\n",
    "for disease in data[\"label\"].unique():\n",
    "    # Get symptoms for this disease\n",
    "    disease_rows = data[data[\"label\"] == disease][\"extracted_symptoms\"]\n",
    "    symptom_list = \" \".join(disease_rows).split()\n",
    "    if not symptom_list:  # Skip if no symptoms\n",
    "        continue\n",
    "    \n",
    "    # Count symptom frequencies\n",
    "    symptom_counts = Counter(symptom_list)\n",
    "    # Select top 5 symptoms (adjust as needed)\n",
    "    top_symptoms = [symptom for symptom, count in symptom_counts.most_common(5)]\n",
    "    disease_symptom_priors[disease] = top_symptoms\n",
    "\n",
    "# Verification\n",
    "print(f\"Number of diseases with priors: {len(disease_symptom_priors)}\")\n",
    "for disease, symptoms in list(disease_symptom_priors.items())[:3]:  # Sample 3\n",
    "    print(f\"{disease}: {symptoms}\")"
   ]
  },
  {
   "cell_type": "code",
   "execution_count": null,
   "id": "e3e41cbe",
   "metadata": {},
   "outputs": [],
   "source": []
  }
 ],
 "metadata": {
  "kernelspec": {
   "display_name": "env",
   "language": "python",
   "name": "python3"
  },
  "language_info": {
   "codemirror_mode": {
    "name": "ipython",
    "version": 3
   },
   "file_extension": ".py",
   "mimetype": "text/x-python",
   "name": "python",
   "nbconvert_exporter": "python",
   "pygments_lexer": "ipython3",
   "version": "3.12.4"
  }
 },
 "nbformat": 4,
 "nbformat_minor": 5
}
