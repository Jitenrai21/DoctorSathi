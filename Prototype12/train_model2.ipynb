{
 "cells": [
  {
   "cell_type": "code",
   "execution_count": 6,
   "id": "3a81f95d",
   "metadata": {},
   "outputs": [
    {
     "name": "stdout",
     "output_type": "stream",
     "text": [
      "Libraries imported successfully\n"
     ]
    }
   ],
   "source": [
    "import os\n",
    "os.environ[\"LOKY_MAX_CPU_COUNT\"] = \"4\"  # Add this at the top\n",
    "\n",
    "import pandas as pd\n",
    "import numpy as np\n",
    "from gensim.models import KeyedVectors\n",
    "from imblearn.over_sampling import SMOTE\n",
    "from sklearn.ensemble import RandomForestClassifier\n",
    "from sklearn.model_selection import train_test_split, cross_val_score, GridSearchCV\n",
    "from sklearn.metrics import f1_score, classification_report\n",
    "from xgboost import XGBClassifier\n",
    "from sklearn.preprocessing import LabelEncoder\n",
    "\n",
    "print(\"Libraries imported successfully\")"
   ]
  },
  {
   "cell_type": "code",
   "execution_count": 2,
   "id": "597ec15f",
   "metadata": {},
   "outputs": [
    {
     "name": "stdout",
     "output_type": "stream",
     "text": [
      "Cleaned dataset shape: (457, 2)\n",
      "Class distribution:\n",
      " label\n",
      "Dengue         47\n",
      "Typhoid        43\n",
      "Chicken pox    35\n",
      "allergy        27\n",
      "Jaundice       25\n",
      "Name: count, dtype: int64 ... label\n",
      "Hypertension             9\n",
      "Dimorphic Hemorrhoids    8\n",
      "Migraine                 6\n",
      "Acne                     4\n",
      "Arthritis                3\n",
      "Name: count, dtype: int64\n",
      "Rows with empty symptoms after cleaning: 0\n"
     ]
    }
   ],
   "source": [
    "data = pd.read_csv(\"preprocessed_dataset.csv\")\n",
    "data[\"extracted_symptoms\"] = data[\"extracted_symptoms\"].fillna(\"\")  # Replace NaN with empty string\n",
    "data = data[data[\"extracted_symptoms\"] != \"\"]  # Filter out empty strings\n",
    "\n",
    "print(f\"Cleaned dataset shape: {data.shape}\")\n",
    "print(\"Class distribution:\\n\", data[\"label\"].value_counts().head(5), \"...\", data[\"label\"].value_counts().tail(5))\n",
    "print(\"Rows with empty symptoms after cleaning:\", data[\"extracted_symptoms\"].isna().sum())"
   ]
  },
  {
   "cell_type": "code",
   "execution_count": 3,
   "id": "ad6c6aea",
   "metadata": {},
   "outputs": [
    {
     "name": "stdout",
     "output_type": "stream",
     "text": [
      "Loaded embeddings with 16545452 terms\n"
     ]
    }
   ],
   "source": [
    "bio_word_vec = KeyedVectors.load_word2vec_format(r\"C:\\Users\\ACER\\Downloads\\BioWordVec_PubMed_MIMICIII_d200.vec.bin\", binary=True)\n",
    "print(f\"Loaded embeddings with {len(bio_word_vec)} terms\")"
   ]
  },
  {
   "cell_type": "code",
   "execution_count": 4,
   "id": "59e44eb6",
   "metadata": {},
   "outputs": [
    {
     "name": "stdout",
     "output_type": "stream",
     "text": [
      "X shape: (457, 200)\n"
     ]
    }
   ],
   "source": [
    "def symptoms_to_embedding(symptoms, model):\n",
    "    if pd.isna(symptoms) or not isinstance(symptoms, str):\n",
    "        return np.zeros(200)\n",
    "    symptom_list = symptoms.split()\n",
    "    vectors = []\n",
    "    for symptom in symptom_list:\n",
    "        words = symptom.split()\n",
    "        word_vecs = [model[word] for word in words if word in model]\n",
    "        if word_vecs:\n",
    "            vectors.append(np.mean(word_vecs, axis=0))\n",
    "    return np.mean(vectors, axis=0) if vectors else np.zeros(200)\n",
    "\n",
    "data[\"symptom_embedding\"] = data[\"extracted_symptoms\"].apply(lambda x: symptoms_to_embedding(x, bio_word_vec))\n",
    "X = np.vstack(data[\"symptom_embedding\"].values)\n",
    "y = data[\"label\"].values\n",
    "\n",
    "print(f\"X shape: {X.shape}\")"
   ]
  },
  {
   "cell_type": "code",
   "execution_count": 7,
   "id": "3afcdafd",
   "metadata": {},
   "outputs": [
    {
     "name": "stdout",
     "output_type": "stream",
     "text": [
      "Augmented X shape: (1128, 200)\n",
      "Augmented class distribution:\n",
      " Psoriasis                          47\n",
      "Varicose Veins                     47\n",
      "peptic ulcer disease               47\n",
      "drug reaction                      47\n",
      "gastroesophageal reflux disease    47\n",
      "allergy                            47\n",
      "urinary tract infection            47\n",
      "Malaria                            47\n",
      "Jaundice                           47\n",
      "Cervical spondylosis               47\n",
      "Migraine                           47\n",
      "Hypertension                       47\n",
      "Bronchial Asthma                   47\n",
      "Acne                               47\n",
      "Arthritis                          47\n",
      "Dimorphic Hemorrhoids              47\n",
      "Pneumonia                          47\n",
      "Common Cold                        47\n",
      "Fungal infection                   47\n",
      "Dengue                             47\n",
      "Impetigo                           47\n",
      "Chicken pox                        47\n",
      "Typhoid                            47\n",
      "diabetes                           47\n",
      "Name: count, dtype: int64\n"
     ]
    }
   ],
   "source": [
    "smote = SMOTE(random_state=42, k_neighbors=2)  # Reduced from 3\n",
    "X_resampled, y_resampled = smote.fit_resample(X, y)\n",
    "print(f\"Augmented X shape: {X_resampled.shape}\")\n",
    "print(\"Augmented class distribution:\\n\", pd.Series(y_resampled).value_counts())"
   ]
  },
  {
   "cell_type": "code",
   "execution_count": 8,
   "id": "40901208",
   "metadata": {},
   "outputs": [
    {
     "name": "stdout",
     "output_type": "stream",
     "text": [
      "Number of unique symptoms: 141\n",
      "Sample known_symptoms: ['abdominal', 'aches', 'anemia', 'appetite', 'back', 'bad', 'belching', 'belly', 'blistering', 'bloating']\n",
      "Number of diseases with priors: 24\n",
      "Psoriasis: ['rash', 'pain', 'peeling', 'skin', 'joint']\n",
      "Varicose Veins: ['cramps', 'rash', 'fatigue', 'pain', 'itchy']\n",
      "Typhoid: ['pain', 'fever', 'constipation', 'headache', 'vomiting']\n"
     ]
    }
   ],
   "source": [
    "import pandas as pd\n",
    "import numpy as np\n",
    "from collections import Counter\n",
    "\n",
    "# Load dataset\n",
    "data = pd.read_csv(\"preprocessed_dataset.csv\")\n",
    "data[\"extracted_symptoms\"] = data[\"extracted_symptoms\"].fillna(\"\")  # Handle NaN\n",
    "\n",
    "# Step 1: Extract known_symptoms\n",
    "all_symptoms = \" \".join(data[\"extracted_symptoms\"]).split()\n",
    "known_symptoms = sorted(set(all_symptoms) - {\"\"})  # Remove empty strings and deduplicate\n",
    "print(f\"Number of unique symptoms: {len(known_symptoms)}\")\n",
    "print(\"Sample known_symptoms:\", known_symptoms[:10])\n",
    "\n",
    "# Step 2: Extract disease_symptom_priors\n",
    "disease_symptom_priors = {}\n",
    "for disease in data[\"label\"].unique():\n",
    "    # Get symptoms for this disease\n",
    "    disease_rows = data[data[\"label\"] == disease][\"extracted_symptoms\"]\n",
    "    symptom_list = \" \".join(disease_rows).split()\n",
    "    if not symptom_list:  # Skip if no symptoms\n",
    "        continue\n",
    "    \n",
    "    # Count symptom frequencies\n",
    "    symptom_counts = Counter(symptom_list)\n",
    "    # Select top 5 symptoms (adjust as needed)\n",
    "    top_symptoms = [symptom for symptom, count in symptom_counts.most_common(5)]\n",
    "    disease_symptom_priors[disease] = top_symptoms\n",
    "\n",
    "# Verification\n",
    "print(f\"Number of diseases with priors: {len(disease_symptom_priors)}\")\n",
    "for disease, symptoms in list(disease_symptom_priors.items())[:3]:  # Sample 3\n",
    "    print(f\"{disease}: {symptoms}\")"
   ]
  },
  {
   "cell_type": "code",
   "execution_count": 9,
   "id": "a0b8268c",
   "metadata": {},
   "outputs": [
    {
     "name": "stdout",
     "output_type": "stream",
     "text": [
      "Augmented dataset shape: (1128, 3)\n",
      "Unique symptoms: 115\n",
      "Sample augmented rows:\n",
      "        label                                  symptom_embedding  \\\n",
      "0  Psoriasis  [0.07757777, -0.0022662845, -0.133824, 0.61743...   \n",
      "1  Psoriasis  [-0.13429934, 0.11955333, -0.226954, 0.5925967...   \n",
      "2  Psoriasis  [-0.10813, 0.46145964, -0.23083667, -0.1078816...   \n",
      "3  Psoriasis  [-0.042359997, 0.004344667, -0.07560567, 0.005...   \n",
      "4  Psoriasis  [-0.154185, 0.32754, -0.036485016, 0.097795, -...   \n",
      "\n",
      "                  extracted_symptoms  \n",
      "0      rash skin peeling scaly itchy  \n",
      "1    peeling rash pain skin stinging  \n",
      "2  pain joint rash numbness headache  \n",
      "3   peeling dusting silver skin like  \n",
      "4   peeling deep cracks skin flaking  \n"
     ]
    }
   ],
   "source": [
    "# Use extracted known_symptoms and disease_symptom_priors\n",
    "single_word_symptoms = [s for s in known_symptoms if \" \" not in s]  # Filter single words\n",
    "\n",
    "def embedding_to_symptoms(embedding, label, model, known_symptoms, top_n=5):\n",
    "    all_symptoms = list(set(known_symptoms + single_word_symptoms))\n",
    "    symptom_vectors = {s: symptoms_to_embedding(s, model) for s in all_symptoms if symptoms_to_embedding(s, model).any()}\n",
    "    similarities = {s: model.cosine_similarities(embedding, [v])[0] for s, v in symptom_vectors.items()}\n",
    "    if label in disease_symptom_priors:\n",
    "        for s in disease_symptom_priors[label]:\n",
    "            if s in similarities:\n",
    "                similarities[s] *= 1.5  # Stronger boost for priors\n",
    "    selected = sorted(similarities.items(), key=lambda x: x[1], reverse=True)[:top_n]\n",
    "    return \" \".join([s[0] for s in selected if s[1] > 0.25])\n",
    "\n",
    "augmented_data = pd.DataFrame({\"label\": y_resampled})\n",
    "augmented_data[\"symptom_embedding\"] = list(X_resampled)\n",
    "augmented_data[\"extracted_symptoms\"] = [embedding_to_symptoms(emb, lab, bio_word_vec, known_symptoms) \n",
    "                                        for emb, lab in zip(X_resampled, y_resampled)]\n",
    "\n",
    "print(f\"Augmented dataset shape: {augmented_data.shape}\")\n",
    "print(\"Unique symptoms:\", len(set(\" \".join(augmented_data[\"extracted_symptoms\"]).split())))\n",
    "print(\"Sample augmented rows:\\n\", augmented_data.head())"
   ]
  },
  {
   "cell_type": "code",
   "execution_count": 10,
   "id": "67cd019d",
   "metadata": {},
   "outputs": [
    {
     "name": "stdout",
     "output_type": "stream",
     "text": [
      "Best parameters: {'learning_rate': 0.3, 'max_depth': 6, 'n_estimators': 200, 'subsample': 0.8}\n",
      "Weighted F1-Score (XGBoost): 0.775575773708233\n",
      "Cross-validated F1-Score: 0.7733049207204985 (± 0.08251768980453678)\n",
      "Classification report:\n",
      "                                  precision    recall  f1-score   support\n",
      "\n",
      "                           Acne       0.67      0.83      0.74        12\n",
      "                      Arthritis       1.00      1.00      1.00        12\n",
      "               Bronchial Asthma       0.83      1.00      0.91         5\n",
      "           Cervical spondylosis       1.00      0.85      0.92        13\n",
      "                    Chicken pox       0.64      0.78      0.70         9\n",
      "                    Common Cold       0.88      0.64      0.74        11\n",
      "                         Dengue       0.33      0.67      0.44         9\n",
      "          Dimorphic Hemorrhoids       0.75      0.75      0.75         4\n",
      "               Fungal infection       0.50      0.50      0.50         8\n",
      "                   Hypertension       0.91      0.91      0.91        11\n",
      "                       Impetigo       0.86      0.67      0.75         9\n",
      "                       Jaundice       0.77      0.91      0.83        11\n",
      "                        Malaria       0.93      1.00      0.97        14\n",
      "                       Migraine       1.00      1.00      1.00         9\n",
      "                      Pneumonia       0.67      0.67      0.67         6\n",
      "                      Psoriasis       0.75      0.75      0.75         8\n",
      "                        Typhoid       1.00      0.57      0.73        14\n",
      "                 Varicose Veins       0.40      0.33      0.36         6\n",
      "                        allergy       0.44      0.50      0.47         8\n",
      "                       diabetes       0.91      0.91      0.91        11\n",
      "                  drug reaction       0.86      0.60      0.71        10\n",
      "gastroesophageal reflux disease       0.67      0.86      0.75         7\n",
      "           peptic ulcer disease       0.88      0.70      0.78        10\n",
      "        urinary tract infection       1.00      0.78      0.88         9\n",
      "\n",
      "                       accuracy                           0.77       226\n",
      "                      macro avg       0.78      0.76      0.76       226\n",
      "                   weighted avg       0.80      0.77      0.78       226\n",
      "\n"
     ]
    }
   ],
   "source": [
    "label_encoder = LabelEncoder()\n",
    "y_encoded = label_encoder.fit_transform(y_resampled)\n",
    "X_final = X_resampled\n",
    "\n",
    "X_train, X_test, y_train, y_test = train_test_split(X_final, y_encoded, test_size=0.2, random_state=42)\n",
    "\n",
    "param_grid = {\n",
    "    \"n_estimators\": [100, 200],\n",
    "    \"max_depth\": [3, 6, 10],\n",
    "    \"learning_rate\": [0.01, 0.1, 0.3],\n",
    "    \"subsample\": [0.8, 1.0]\n",
    "}\n",
    "xgb = XGBClassifier(random_state=42, eval_metric=\"mlogloss\")\n",
    "grid_search = GridSearchCV(xgb, param_grid, cv=5, scoring=\"f1_weighted\", n_jobs=-1)\n",
    "grid_search.fit(X_train, y_train)\n",
    "\n",
    "best_xgb = grid_search.best_estimator_\n",
    "y_pred = best_xgb.predict(X_test)\n",
    "f1 = f1_score(y_test, y_pred, average=\"weighted\")\n",
    "cv_scores = cross_val_score(best_xgb, X_final, y_encoded, cv=5, scoring=\"f1_weighted\")\n",
    "\n",
    "print(f\"Best parameters: {grid_search.best_params_}\")\n",
    "print(f\"Weighted F1-Score (XGBoost): {f1}\")\n",
    "print(f\"Cross-validated F1-Score: {cv_scores.mean()} (± {cv_scores.std()})\")\n",
    "print(\"Classification report:\\n\", classification_report(y_test, y_pred, target_names=label_encoder.classes_))"
   ]
  },
  {
   "cell_type": "code",
   "execution_count": null,
   "id": "0d6b1f3c",
   "metadata": {},
   "outputs": [],
   "source": []
  }
 ],
 "metadata": {
  "kernelspec": {
   "display_name": "env",
   "language": "python",
   "name": "python3"
  },
  "language_info": {
   "codemirror_mode": {
    "name": "ipython",
    "version": 3
   },
   "file_extension": ".py",
   "mimetype": "text/x-python",
   "name": "python",
   "nbconvert_exporter": "python",
   "pygments_lexer": "ipython3",
   "version": "3.12.4"
  }
 },
 "nbformat": 4,
 "nbformat_minor": 5
}
