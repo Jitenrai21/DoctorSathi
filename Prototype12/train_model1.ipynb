{
 "cells": [
  {
   "cell_type": "code",
   "execution_count": 13,
   "id": "3fcba596",
   "metadata": {},
   "outputs": [
    {
     "name": "stdout",
     "output_type": "stream",
     "text": [
      "Libraries imported successfully\n"
     ]
    }
   ],
   "source": [
    "import pandas as pd\n",
    "import numpy as np\n",
    "from gensim.models import KeyedVectors\n",
    "from imblearn.over_sampling import SMOTE\n",
    "from sklearn.ensemble import RandomForestClassifier\n",
    "from sklearn.model_selection import train_test_split, cross_val_score, GridSearchCV\n",
    "from sklearn.metrics import f1_score, classification_report\n",
    "from sklearn.feature_extraction.text import TfidfVectorizer\n",
    "import re\n",
    "from xgboost import XGBClassifier\n",
    "from sklearn.preprocessing import LabelEncoder\n",
    "\n",
    "print(\"Libraries imported successfully\")"
   ]
  },
  {
   "cell_type": "code",
   "execution_count": 2,
   "id": "7a174e11",
   "metadata": {},
   "outputs": [
    {
     "name": "stdout",
     "output_type": "stream",
     "text": [
      "Dataset shape: (477, 2)\n",
      "Class distribution:\n",
      " label\n",
      "Dengue         48\n",
      "Typhoid        43\n",
      "Chicken pox    36\n",
      "allergy        28\n",
      "Psoriasis      25\n",
      "Name: count, dtype: int64 ... label\n",
      "Hypertension             10\n",
      "Dimorphic Hemorrhoids     9\n",
      "Migraine                  7\n",
      "Acne                      5\n",
      "Arthritis                 4\n",
      "Name: count, dtype: int64\n",
      "Sample rows:\n",
      "        label                      extracted_symptoms\n",
      "0  Psoriasis  dry scaly patches itchy rash skin rash\n",
      "1  Psoriasis              peeling stinging sensation\n",
      "2  Psoriasis                         joint pain pain\n",
      "3  Psoriasis                     silver like dusting\n",
      "4  Psoriasis                                     NaN\n"
     ]
    }
   ],
   "source": [
    "data = pd.read_csv(\"preprocessed_dataset.csv\")\n",
    "\n",
    "# Verification\n",
    "print(f\"Dataset shape: {data.shape}\")\n",
    "print(\"Class distribution:\\n\", data[\"label\"].value_counts().head(5), \"...\", data[\"label\"].value_counts().tail(5))\n",
    "print(\"Sample rows:\\n\", data.head())"
   ]
  },
  {
   "cell_type": "code",
   "execution_count": 3,
   "id": "a706c273",
   "metadata": {},
   "outputs": [
    {
     "name": "stdout",
     "output_type": "stream",
     "text": [
      "Loaded embeddings with 16545452 terms\n",
      "Sample check: 'fever' in vocab? True\n"
     ]
    }
   ],
   "source": [
    "bio_word_vec = KeyedVectors.load_word2vec_format(r\"C:\\Users\\ACER\\Downloads\\BioWordVec_PubMed_MIMICIII_d200.vec.bin\", binary=True)\n",
    "print(f\"Loaded embeddings with {len(bio_word_vec)} terms\")\n",
    "print(\"Sample check: 'fever' in vocab?\", \"fever\" in bio_word_vec)"
   ]
  },
  {
   "cell_type": "code",
   "execution_count": 4,
   "id": "a0f92667",
   "metadata": {},
   "outputs": [
    {
     "name": "stdout",
     "output_type": "stream",
     "text": [
      "X shape: (477, 200)\n",
      "Sample embedding (first 5 dims): [ 0.07757777 -0.00226628 -0.133824    0.61743713 -0.35856715]\n",
      "Rows with empty symptoms: 20\n"
     ]
    }
   ],
   "source": [
    "def symptoms_to_embedding(symptoms, model):\n",
    "    if pd.isna(symptoms) or not isinstance(symptoms, str):\n",
    "        return np.zeros(200)\n",
    "    symptom_list = symptoms.split()\n",
    "    vectors = []\n",
    "    weights = []  # Optional: weight by symptom frequency or importance\n",
    "    for symptom in symptom_list:\n",
    "        words = symptom.split()\n",
    "        word_vecs = [model[word] for word in words if word in model]\n",
    "        if word_vecs:\n",
    "            avg_vec = np.mean(word_vecs, axis=0)\n",
    "            vectors.append(avg_vec)\n",
    "            weights.append(1.0)  # Placeholder; could weight by TF-IDF or medical relevance\n",
    "    if vectors:\n",
    "        return np.average(vectors, axis=0, weights=weights)\n",
    "    return np.zeros(200)\n",
    "\n",
    "data[\"symptom_embedding\"] = data[\"extracted_symptoms\"].apply(lambda x: symptoms_to_embedding(x, bio_word_vec))\n",
    "X = np.vstack(data[\"symptom_embedding\"].values)\n",
    "y = data[\"label\"].values\n",
    "\n",
    "print(f\"X shape: {X.shape}\")\n",
    "print(\"Sample embedding (first 5 dims):\", X[0][:5])\n",
    "print(\"Rows with empty symptoms:\", data[\"extracted_symptoms\"].isna().sum())"
   ]
  },
  {
   "cell_type": "code",
   "execution_count": 5,
   "id": "371650ee",
   "metadata": {},
   "outputs": [
    {
     "name": "stderr",
     "output_type": "stream",
     "text": [
      "c:\\Users\\ACER\\gitClones\\DoctorSathi\\env\\Lib\\site-packages\\joblib\\externals\\loky\\backend\\context.py:136: UserWarning: Could not find the number of physical cores for the following reason:\n",
      "[WinError 2] The system cannot find the file specified\n",
      "Returning the number of logical cores instead. You can silence this warning by setting LOKY_MAX_CPU_COUNT to the number of cores you want to use.\n",
      "  warnings.warn(\n",
      "  File \"c:\\Users\\ACER\\gitClones\\DoctorSathi\\env\\Lib\\site-packages\\joblib\\externals\\loky\\backend\\context.py\", line 257, in _count_physical_cores\n",
      "    cpu_info = subprocess.run(\n",
      "               ^^^^^^^^^^^^^^^\n",
      "  File \"C:\\Users\\ACER\\AppData\\Local\\Programs\\Python\\Python312\\Lib\\subprocess.py\", line 548, in run\n",
      "    with Popen(*popenargs, **kwargs) as process:\n",
      "         ^^^^^^^^^^^^^^^^^^^^^^^^^^^\n",
      "  File \"C:\\Users\\ACER\\AppData\\Local\\Programs\\Python\\Python312\\Lib\\subprocess.py\", line 1026, in __init__\n",
      "    self._execute_child(args, executable, preexec_fn, close_fds,\n",
      "  File \"C:\\Users\\ACER\\AppData\\Local\\Programs\\Python\\Python312\\Lib\\subprocess.py\", line 1538, in _execute_child\n",
      "    hp, ht, pid, tid = _winapi.CreateProcess(executable, args,\n",
      "                       ^^^^^^^^^^^^^^^^^^^^^^^^^^^^^^^^^^^^^^^\n"
     ]
    },
    {
     "name": "stdout",
     "output_type": "stream",
     "text": [
      "Augmented X shape: (1152, 200)\n",
      "Augmented class distribution:\n",
      " Psoriasis                          48\n",
      "Varicose Veins                     48\n",
      "peptic ulcer disease               48\n",
      "drug reaction                      48\n",
      "gastroesophageal reflux disease    48\n",
      "allergy                            48\n",
      "urinary tract infection            48\n",
      "Malaria                            48\n",
      "Jaundice                           48\n",
      "Cervical spondylosis               48\n",
      "Migraine                           48\n",
      "Hypertension                       48\n",
      "Bronchial Asthma                   48\n",
      "Acne                               48\n",
      "Arthritis                          48\n",
      "Dimorphic Hemorrhoids              48\n",
      "Pneumonia                          48\n",
      "Common Cold                        48\n",
      "Fungal infection                   48\n",
      "Dengue                             48\n",
      "Impetigo                           48\n",
      "Chicken pox                        48\n",
      "Typhoid                            48\n",
      "diabetes                           48\n",
      "Name: count, dtype: int64\n"
     ]
    }
   ],
   "source": [
    "smote = SMOTE(random_state=42, k_neighbors=3)\n",
    "X_resampled, y_resampled = smote.fit_resample(X, y)\n",
    "print(f\"Augmented X shape: {X_resampled.shape}\")\n",
    "print(\"Augmented class distribution:\\n\", pd.Series(y_resampled).value_counts())"
   ]
  },
  {
   "cell_type": "code",
   "execution_count": 6,
   "id": "47022c58",
   "metadata": {},
   "outputs": [
    {
     "name": "stderr",
     "output_type": "stream",
     "text": [
      "c:\\Users\\ACER\\gitClones\\DoctorSathi\\env\\Lib\\site-packages\\gensim\\models\\keyedvectors.py:1162: RuntimeWarning: invalid value encountered in divide\n",
      "  similarities = dot_products / (norm * all_norms)\n"
     ]
    },
    {
     "name": "stdout",
     "output_type": "stream",
     "text": [
      "Augmented dataset shape: (1152, 3)\n",
      "Sample augmented rows:\n",
      "        label                                  symptom_embedding  \\\n",
      "0  Psoriasis  [0.07757776949022498, -0.0022662838122674395, ...   \n",
      "1  Psoriasis  [-0.13429934158921242, 0.1195533275604248, -0....   \n",
      "2  Psoriasis  [-0.1081300030152003, 0.4614596540729205, -0.2...   \n",
      "3  Psoriasis  [-0.0423600027958552, 0.004344666997591655, -0...   \n",
      "4  Psoriasis  [0.0, 0.0, 0.0, 0.0, 0.0, 0.0, 0.0, 0.0, 0.0, ...   \n",
      "\n",
      "                            extracted_symptoms  \n",
      "0  skin rash dry scaly patches rash joint pain  \n",
      "1  dry scaly patches skin rash joint pain rash  \n",
      "2             joint pain pain nausea skin rash  \n",
      "3  dry scaly patches skin rash joint pain rash  \n",
      "4                                               \n",
      "Unique symptoms in augmented data: 9\n"
     ]
    }
   ],
   "source": [
    "# Use your full 141-term symptom list (simplified here)\n",
    "known_symptoms = [\"skin rash\", \"joint pain\", \"fever\", \"dry scaly patches\"]  # Replace with full list\n",
    "single_word_symptoms = [\"fever\", \"nausea\", \"pain\", \"rash\"]\n",
    "\n",
    "# Disease-specific symptom priors (example subset)\n",
    "disease_symptom_priors = {\n",
    "    \"Psoriasis\": [\"skin rash\", \"dry scaly patches\", \"joint pain\"],\n",
    "    \"Dengue\": [\"fever\", \"rash\", \"headache\"],\n",
    "    # Add for all 24 diseases\n",
    "}\n",
    "\n",
    "def embedding_to_symptoms(embedding, label, model, known_symptoms, top_n=4):\n",
    "    all_symptoms = known_symptoms + single_word_symptoms\n",
    "    symptom_vectors = {s: symptoms_to_embedding(s, model) for s in all_symptoms if symptoms_to_embedding(s, model).any()}\n",
    "    similarities = {s: model.cosine_similarities(embedding, [v])[0] for s, v in symptom_vectors.items()}\n",
    "    \n",
    "    # Boost disease-specific symptoms\n",
    "    if label in disease_symptom_priors:\n",
    "        for s in disease_symptom_priors[label]:\n",
    "            if s in similarities:\n",
    "                similarities[s] *= 1.2  # Weight prior symptoms higher\n",
    "    \n",
    "    selected = sorted(similarities.items(), key=lambda x: x[1], reverse=True)[:top_n]\n",
    "    return \" \".join([s[0] for s in selected if s[1] > 0.3])  # Lower threshold\n",
    "\n",
    "augmented_data = pd.DataFrame({\"label\": y_resampled})\n",
    "augmented_data[\"symptom_embedding\"] = list(X_resampled)\n",
    "augmented_data[\"extracted_symptoms\"] = [embedding_to_symptoms(emb, lab, bio_word_vec, known_symptoms) \n",
    "                                        for emb, lab in zip(X_resampled, y_resampled)]\n",
    "\n",
    "print(f\"Augmented dataset shape: {augmented_data.shape}\")\n",
    "print(\"Sample augmented rows:\\n\", augmented_data.head())\n",
    "print(\"Unique symptoms in augmented data:\", len(set(\" \".join(augmented_data[\"extracted_symptoms\"]).split())))"
   ]
  },
  {
   "cell_type": "code",
   "execution_count": 7,
   "id": "b3f58de7",
   "metadata": {},
   "outputs": [],
   "source": [
    "# tfidf = TfidfVectorizer(ngram_range=(1, 2))\n",
    "# X = tfidf.fit_transform(augmented_data[\"extracted_symptoms\"])\n",
    "# y = augmented_data[\"label\"]\n",
    "# X_train, X_test, y_train, y_test = train_test_split(X, y, test_size=0.2, random_state=42)\n",
    "# model = RandomForestClassifier(random_state=42, n_estimators=200, max_depth=20, min_samples_split=5)\n",
    "# model.fit(X_train, y_train)\n",
    "# y_pred = model.predict(X_test)\n",
    "# f1 = f1_score(y_test, y_pred, average=\"weighted\")\n",
    "\n",
    "# print(f\"X_train shape: {X_train.shape}, X_test shape: {X_test.shape}\")\n",
    "# print(f\"Vocabulary size: {X.shape[1]}\")\n",
    "# print(f\"Weighted F1-Score: {f1}\")"
   ]
  },
  {
   "cell_type": "code",
   "execution_count": 8,
   "id": "73f42e54",
   "metadata": {},
   "outputs": [
    {
     "name": "stdout",
     "output_type": "stream",
     "text": [
      "X_train shape: (921, 200), X_test shape: (231, 200)\n",
      "Weighted F1-Score (embeddings): 0.7574164176327338\n"
     ]
    }
   ],
   "source": [
    "X = np.vstack(augmented_data[\"symptom_embedding\"].values)\n",
    "y = augmented_data[\"label\"]\n",
    "X_train, X_test, y_train, y_test = train_test_split(X, y, test_size=0.2, random_state=42)\n",
    "model = RandomForestClassifier(random_state=42, n_estimators=200, max_depth=20, min_samples_split=5)\n",
    "model.fit(X_train, y_train)\n",
    "y_pred = model.predict(X_test)\n",
    "f1 = f1_score(y_test, y_pred, average=\"weighted\")\n",
    "\n",
    "print(f\"X_train shape: {X_train.shape}, X_test shape: {X_test.shape}\")\n",
    "print(f\"Weighted F1-Score (embeddings): {f1}\")"
   ]
  },
  {
   "cell_type": "code",
   "execution_count": 9,
   "id": "f194bc92",
   "metadata": {},
   "outputs": [
    {
     "name": "stdout",
     "output_type": "stream",
     "text": [
      "X_final shape: (1152, 200)\n",
      "Number of unique classes: 24\n",
      "Sample encoded label: 15 -> Psoriasis\n"
     ]
    }
   ],
   "source": [
    "# Encode labels for XGBoost compatibility\n",
    "label_encoder = LabelEncoder()\n",
    "y_encoded = label_encoder.fit_transform(y_resampled)\n",
    "X_final = X_resampled  # Already embeddings\n",
    "\n",
    "print(f\"X_final shape: {X_final.shape}\")\n",
    "print(\"Number of unique classes:\", len(np.unique(y_encoded)))\n",
    "print(\"Sample encoded label:\", y_encoded[0], \"->\", y_resampled[0])"
   ]
  },
  {
   "cell_type": "code",
   "execution_count": 14,
   "id": "eb8c09ef",
   "metadata": {},
   "outputs": [
    {
     "name": "stdout",
     "output_type": "stream",
     "text": [
      "Best parameters: {'max_depth': 20, 'min_samples_split': 2, 'n_estimators': 100}\n",
      "X_train shape: (921, 200), X_test shape: (231, 200)\n",
      "Weighted F1-Score (optimized RF): 0.7302483033678611\n",
      "Classification report:\n",
      "                                  precision    recall  f1-score   support\n",
      "\n",
      "                           Acne       0.50      0.80      0.62         5\n",
      "                      Arthritis       0.81      0.93      0.87        14\n",
      "               Bronchial Asthma       1.00      0.64      0.78        11\n",
      "           Cervical spondylosis       0.89      0.73      0.80        11\n",
      "                    Chicken pox       0.70      0.64      0.67        11\n",
      "                    Common Cold       0.71      0.71      0.71         7\n",
      "                         Dengue       0.14      0.14      0.14         7\n",
      "          Dimorphic Hemorrhoids       0.73      0.85      0.79        13\n",
      "               Fungal infection       0.67      0.50      0.57         8\n",
      "                   Hypertension       1.00      1.00      1.00        11\n",
      "                       Impetigo       1.00      0.58      0.74        12\n",
      "                       Jaundice       0.90      0.69      0.78        13\n",
      "                        Malaria       1.00      1.00      1.00        10\n",
      "                       Migraine       1.00      0.83      0.91        12\n",
      "                      Pneumonia       0.58      0.70      0.64        10\n",
      "                      Psoriasis       0.54      0.78      0.64         9\n",
      "                        Typhoid       0.69      0.64      0.67        14\n",
      "                 Varicose Veins       0.38      0.60      0.46         5\n",
      "                        allergy       0.62      0.89      0.73         9\n",
      "                       diabetes       0.83      0.83      0.83         6\n",
      "                  drug reaction       0.75      0.75      0.75         8\n",
      "gastroesophageal reflux disease       0.50      0.75      0.60         8\n",
      "           peptic ulcer disease       0.75      0.38      0.50         8\n",
      "        urinary tract infection       0.78      0.78      0.78         9\n",
      "\n",
      "                       accuracy                           0.73       231\n",
      "                      macro avg       0.73      0.71      0.71       231\n",
      "                   weighted avg       0.76      0.73      0.73       231\n",
      "\n"
     ]
    }
   ],
   "source": [
    "X_train, X_test, y_train, y_test = train_test_split(X_final, y_encoded, test_size=0.2, random_state=42)\n",
    "\n",
    "# Define parameter grid\n",
    "param_grid = {\n",
    "    \"n_estimators\": [100, 200, 300],\n",
    "    \"max_depth\": [10, 20, 30],\n",
    "    \"min_samples_split\": [2, 5, 10]\n",
    "}\n",
    "rf = RandomForestClassifier(random_state=42)\n",
    "grid_search = GridSearchCV(rf, param_grid, cv=5, scoring=\"f1_weighted\", n_jobs=-1)\n",
    "grid_search.fit(X_train, y_train)\n",
    "\n",
    "# Best model\n",
    "best_rf = grid_search.best_estimator_\n",
    "y_pred = best_rf.predict(X_test)\n",
    "f1 = f1_score(y_test, y_pred, average=\"weighted\")\n",
    "\n",
    "print(f\"Best parameters: {grid_search.best_params_}\")\n",
    "print(f\"X_train shape: {X_train.shape}, X_test shape: {X_test.shape}\")\n",
    "print(f\"Weighted F1-Score (optimized RF): {f1}\")\n",
    "print(\"Classification report:\\n\", classification_report(y_test, y_pred, target_names=label_encoder.classes_))"
   ]
  },
  {
   "cell_type": "code",
   "execution_count": 18,
   "id": "e805d9e9",
   "metadata": {},
   "outputs": [
    {
     "name": "stdout",
     "output_type": "stream",
     "text": [
      "X_train shape: (921, 200), X_test shape: (231, 200)\n",
      "Weighted F1-Score (XGBoost): 0.7270171075509957\n",
      "Cross-validated F1-Score: 0.7504655447896187 (± 0.1025140321845226)\n"
     ]
    }
   ],
   "source": [
    "xgb = XGBClassifier(random_state=42, eval_metric=\"mlogloss\")\n",
    "xgb.fit(X_train, y_train)\n",
    "y_pred = xgb.predict(X_test)\n",
    "f1 = f1_score(y_test, y_pred, average=\"weighted\")\n",
    "cv_scores = cross_val_score(xgb, X_final, y_encoded, cv=5, scoring=\"f1_weighted\")\n",
    "\n",
    "print(f\"X_train shape: {X_train.shape}, X_test shape: {X_test.shape}\")\n",
    "print(f\"Weighted F1-Score (XGBoost): {f1}\")\n",
    "print(f\"Cross-validated F1-Score: {cv_scores.mean()} (± {cv_scores.std()})\")\n"
   ]
  },
  {
   "cell_type": "code",
   "execution_count": 17,
   "id": "943424b2",
   "metadata": {},
   "outputs": [
    {
     "name": "stdout",
     "output_type": "stream",
     "text": [
      "Misclassification summary:\n",
      " True                             Predicted                      \n",
      "Arthritis                        Migraine                           1\n",
      "Bronchial Asthma                 Arthritis                          1\n",
      "                                 Common Cold                        1\n",
      "Cervical spondylosis             Arthritis                          1\n",
      "                                 Bronchial Asthma                   1\n",
      "                                 Migraine                           1\n",
      "Chicken pox                      Dengue                             1\n",
      "                                 Fungal infection                   2\n",
      "                                 Impetigo                           1\n",
      "                                 Pneumonia                          1\n",
      "Common Cold                      Varicose Veins                     1\n",
      "                                 diabetes                           1\n",
      "Dengue                           Chicken pox                        2\n",
      "                                 Fungal infection                   1\n",
      "                                 Pneumonia                          1\n",
      "                                 Psoriasis                          1\n",
      "                                 Typhoid                            1\n",
      "Dimorphic Hemorrhoids            Chicken pox                        2\n",
      "Fungal infection                 Acne                               1\n",
      "                                 Dimorphic Hemorrhoids              1\n",
      "                                 Varicose Veins                     1\n",
      "Hypertension                     drug reaction                      1\n",
      "Impetigo                         Acne                               2\n",
      "                                 Jaundice                           1\n",
      "                                 Migraine                           1\n",
      "                                 gastroesophageal reflux disease    1\n",
      "Jaundice                         Pneumonia                          1\n",
      "                                 Typhoid                            3\n",
      "                                 urinary tract infection            1\n",
      "Malaria                          Dengue                             1\n",
      "Migraine                         Hypertension                       1\n",
      "                                 drug reaction                      1\n",
      "Pneumonia                        Common Cold                        2\n",
      "Psoriasis                        Acne                               1\n",
      "                                 Varicose Veins                     1\n",
      "Typhoid                          Dengue                             2\n",
      "                                 Dimorphic Hemorrhoids              1\n",
      "                                 diabetes                           1\n",
      "                                 urinary tract infection            1\n",
      "Varicose Veins                   Arthritis                          1\n",
      "                                 allergy                            1\n",
      "allergy                          Common Cold                        1\n",
      "                                 Migraine                           1\n",
      "diabetes                         Fungal infection                   1\n",
      "                                 Migraine                           1\n",
      "drug reaction                    Dimorphic Hemorrhoids              1\n",
      "                                 Fungal infection                   1\n",
      "                                 diabetes                           1\n",
      "                                 urinary tract infection            1\n",
      "gastroesophageal reflux disease  allergy                            1\n",
      "                                 peptic ulcer disease               1\n",
      "peptic ulcer disease             Typhoid                            1\n",
      "                                 gastroesophageal reflux disease    1\n",
      "urinary tract infection          Chicken pox                        1\n",
      "                                 drug reaction                      1\n",
      "dtype: int64\n"
     ]
    }
   ],
   "source": [
    "# Identify misclassifications\n",
    "misclassified = X_test[y_pred != y_test]\n",
    "true_labels = label_encoder.inverse_transform(y_test[y_pred != y_test])\n",
    "pred_labels = label_encoder.inverse_transform(y_pred[y_pred != y_test])\n",
    "\n",
    "misclass_df = pd.DataFrame({\"True\": true_labels, \"Predicted\": pred_labels})\n",
    "print(\"Misclassification summary:\\n\", misclass_df.groupby([\"True\", \"Predicted\"]).size())"
   ]
  },
  {
   "cell_type": "code",
   "execution_count": null,
   "id": "2689e426",
   "metadata": {},
   "outputs": [],
   "source": []
  }
 ],
 "metadata": {
  "kernelspec": {
   "display_name": "env",
   "language": "python",
   "name": "python3"
  },
  "language_info": {
   "codemirror_mode": {
    "name": "ipython",
    "version": 3
   },
   "file_extension": ".py",
   "mimetype": "text/x-python",
   "name": "python",
   "nbconvert_exporter": "python",
   "pygments_lexer": "ipython3",
   "version": "3.12.4"
  }
 },
 "nbformat": 4,
 "nbformat_minor": 5
}
